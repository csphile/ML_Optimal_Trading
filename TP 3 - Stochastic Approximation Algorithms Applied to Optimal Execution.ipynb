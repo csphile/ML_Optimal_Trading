{
 "cells": [
  {
   "cell_type": "markdown",
   "metadata": {
    "id": "hN3rRJOm9oTv"
   },
   "source": [
    "# TP3: Stochastic Approximation Algorithms Applied to Optimal Execution"
   ]
  },
  {
   "cell_type": "markdown",
   "metadata": {
    "id": "SJLIcC4y9oT2"
   },
   "source": [
    "### By Zhiyuan XU and Wenjun LIU"
   ]
  },
  {
   "cell_type": "code",
   "execution_count": 3,
   "metadata": {
    "id": "7AjbwzNa9oT3"
   },
   "outputs": [],
   "source": [
    "import numpy as np\n",
    "import pandas as pd \n",
    "import matplotlib.pylab as plt\n",
    "from matplotlib.dates import DateFormatter\n",
    "from matplotlib.ticker import Formatter\n",
    "from matplotlib import cbook, dates\n",
    "\n",
    "from datetime import datetime\n",
    "import statsmodels.api as sm\n",
    "from tqdm import tqdm\n",
    "import os"
   ]
  },
  {
   "cell_type": "code",
   "execution_count": 5,
   "metadata": {
    "id": "E3UZx6o69oT3"
   },
   "outputs": [],
   "source": [
    "%matplotlib inline"
   ]
  },
  {
   "cell_type": "markdown",
   "metadata": {
    "id": "5MGb822M9oT4"
   },
   "source": [
    "## 1. Optimal split of orders across liquidity pools"
   ]
  },
  {
   "cell_type": "markdown",
   "metadata": {
    "id": "svVBL83X9oT4"
   },
   "source": [
    "Given the objective function $\n",
    "\\Phi(r) = \\Phi\\left(r_{1}, \\ldots, r_{N}\\right):=\\sum_{i=1}^{N} \\varphi_{i}\\left(r_{i}\\right) := \\sum_{i=1}^{N} \\rho_{i} \\mathbb{E}\\left[  \\min \\left(r_{i} V, D_{i}\\right)\\right]\n",
    "$, we aim at solving \n",
    "$\n",
    "\\max _{r \\in \\mathcal{P}_{N}} \\Phi(r)\n",
    "$ \n",
    "\n",
    "where\n",
    "$$\n",
    "\\mathcal{P}_{N}:=\\left\\{r=\\left(r_{i}\\right)_{1 \\leq i \\leq N} \\in \\mathbb{R}_{+}^{N} \\mid \\sum_{i=1}^{N} r_{i}=1\\right\\}\n",
    "$$\n",
    "\n",
    "The Lagrangian approach gives \n",
    "\n",
    "$$\n",
    "\\begin{aligned}\n",
    "r^{*} \\in \\arg \\max _{\\mathcal{P}_{N}} \\Phi &\\iff \\forall i \\in I_{N}, \\quad \\varphi_{i}^{\\prime}\\left(r_{i}^{*}\\right)=\\frac{1}{N} \\sum_{j=1}^{N} \\varphi_{j}^{\\prime}\\left(r_{j}^{*}\\right) \\\\\n",
    "&\\iff \\forall i \\in I_{N}, \\quad \\mathbb{E}\\left[V\\left(\\rho_{i} \\mathbb{1}_{\\left\\{r_{i}^{*} V<D_{i}\\right\\}}-\\frac{1}{N} \\sum_{j=1}^{N} \\rho_{j} \\mathbb{1}_{\\left\\{r_{j}^{*} V<D_{j}\\right\\}}\\right)\\right]=0\n",
    "\\end{aligned}\n",
    "$$\n",
    "\n",
    "Consequently, the following zero search procedure can be used for $r^{*}$: \n",
    "\n",
    "$$\n",
    "r_{i}^{n+1}=r_{i}^{n}+\\gamma_{n+1} H_{i}\\left(r^{n}, Y^{n+1}\\right), r^{0} \\in \\mathcal{P}_{N}, i \\in I_{N}\n",
    "$$ \n",
    "\n",
    "where \n",
    "$$\n",
    "H_{i}(r, Y)=V\\left(\\rho_{i} \\mathbb{1}_{\\left\\{r_{i} V<D_{i}\\right\\}}-\\frac{1}{N} \\sum_{j=1}^{N} \\rho_{j} \\mathbb{1}_{\\left\\{r_{j} V<D_{j}\\right\\}}\\right)\n",
    "$$\n",
    "\n",
    "The performance is defined by $$\\frac{\\text { CR }^{\\text{opti}}}{\\text { CR }^{\\text{oracle}} } \\in [0, 1] $$ \n",
    "\n",
    "We also generate the pseudo-real data available volume by: \n",
    "\n",
    "$$\n",
    "\\forall 1 \\leq i \\leq N, \\quad D_{i}:=\\beta_{i}\\left(\\left(1-\\alpha_{i}\\right) V+\\alpha_{i} S_{i} \\frac{\\mathbb{E} V}{\\mathbb{E} S_{i}}\\right)\n",
    "$$"
   ]
  },
  {
   "cell_type": "code",
   "execution_count": 6,
   "metadata": {
    "id": "ufEu-rku9oT5"
   },
   "outputs": [],
   "source": [
    "# Our peudo data setting:\n",
    "# use LVMH.h5 as V and the others as dark pool size\n",
    "\n",
    "N = 3\n",
    "beta_scale = np.array([0.6, 0.1, 0.05])\n",
    "alpha_comb = np.array([0.2, 0.5, 0.8])\n",
    "# the dark pool trading parameters\n",
    "rho_rebate = np.array([0.01, 0.02, 0.05])\n",
    "\n",
    "stock_data = ['LVMH.h5', 'TOTAL.h5', 'BOUYGUES.h5', 'SANOFI.h5']\n",
    "\n",
    "# choose 12 trading days as the periode\n",
    "begin_date = pd.to_datetime(\"2011-04-03\")\n",
    "end_date = pd.to_datetime(\"2011-04-18\")"
   ]
  },
  {
   "cell_type": "code",
   "execution_count": 4,
   "metadata": {
    "id": "CCDgZRA39oT5"
   },
   "outputs": [],
   "source": [
    "def get_asset_V(name):\n",
    "    df_trades = pd.read_hdf(f\"Data/{stock_data[0]}\")\n",
    "    df_trades.loc[:, \"Volume\"] = df_trades.loc[:, \"TradedQty\"] \n",
    "    df_trades.loc[:, \"Date\"] = df_trades.index.date\n",
    "    df_trades = df_trades.reset_index().set_index([\"Date\", \"Time\"]).loc[begin_date:end_date]\n",
    "    return df_trades\n",
    "\n",
    "def get_pools(names):\n",
    "    trades = []\n",
    "    for name in names:\n",
    "        df_trades_tmp = pd.read_hdf(f\"Data/{name}\")\n",
    "        df_trades_tmp.loc[:, \"Volume\"] = df_trades_tmp.loc[:, \"TradedQty\"]\n",
    "        df_trades_tmp.loc[:, \"Date\"] = df_trades_tmp.index.date\n",
    "        df_trades_tmp = df_trades_tmp.reset_index().set_index([\"Date\", \"Time\"]).loc[begin_date:end_date]\n",
    "        trades.append(df_trades_tmp)\n",
    "    return trades\n",
    "\n",
    "def compute_oracle_cost(tot, dark_pools_arg, rho_rebate, N):\n",
    "    j = N - 1\n",
    "    cr_oracle = 0\n",
    "    while j >= 0 and tot > 0:\n",
    "        cr_oracle += rho_rebate[j] * (min(tot, dark_pools_arg[j][i]))\n",
    "        tot -= min(tot, dark_pools[j][i])\n",
    "        j -= 1\n",
    "    return cr_oracle"
   ]
  },
  {
   "cell_type": "code",
   "execution_count": 5,
   "metadata": {
    "id": "qR8GtiCg9oT5"
   },
   "outputs": [],
   "source": [
    "# choose a horizon T (seconds)\n",
    "T = \"5S\"\n",
    "eps = 1e-8\n",
    "\n",
    "# read all data\n",
    "df_trades_V = get_asset_V(stock_data[0])\n",
    "trades = get_pools(stock_data[1:])"
   ]
  },
  {
   "cell_type": "code",
   "execution_count": 6,
   "metadata": {
    "id": "eezyJtvY9oT6",
    "scrolled": true
   },
   "outputs": [],
   "source": [
    "window = 50\n",
    "log_cr = pd.DataFrame(columns=[\"Oracle\", \"Optimization\"])\n",
    "x_vlines = [0]\n",
    "   \n",
    "for date, trades_date in df_trades_V.groupby(level=0):\n",
    "    V = trades_date.droplevel(0).resample(T).sum().Volume\n",
    "    t_index = V.index\n",
    "    t_index_real = []\n",
    "    V = V.to_numpy(copy=True)\n",
    "    dark_pools = []\n",
    "    \n",
    "    # reset r for each day\n",
    "    r = np.array([1/N]*N)\n",
    "    \n",
    "    # compute Di of each dark pool (pseudo-data generation)\n",
    "    for i in range(N):\n",
    "        Si = trades[i].loc[date].resample(T).sum().Volume.to_numpy(copy=True)\n",
    "        Si.resize(V.shape)\n",
    "        dark_pools.append(Si)\n",
    "    dark_pools = np.array(dark_pools)\n",
    "    \n",
    "    ESi = np.mean(dark_pools, axis=0, keepdims=True) + eps\n",
    "    dark_pools = beta_scale.reshape(-1, 1)*((1-alpha_comb.reshape(-1, 1))*V + alpha_comb.reshape(-1, 1)*dark_pools*V.mean()/ESi)\n",
    "\n",
    "    cr_opti_day = []\n",
    "    cr_oracle_day = []\n",
    "    \n",
    "    for i in range(V.shape[0]): \n",
    "        if V[i] == 0:\n",
    "            continue\n",
    "        cr_opti, mean_rho = 0, 0\n",
    "\n",
    "        for j in range(N):\n",
    "            cr_opti += rho_rebate[j]*min(r[j]*V[i], dark_pools[j, i])\n",
    "            if r[j]*V[i] < dark_pools[j][i]:\n",
    "                mean_rho += rho_rebate[j] / N\n",
    "        \n",
    "        dark_pool = dark_pools[:, i]\n",
    "        r += ((r*V[i] < dark_pool)*rho_rebate - mean_rho)*0.5\n",
    "        r[r > 1] = 1\n",
    "        r[r < 0] = 0\n",
    "        r /= r.sum()\n",
    "        \n",
    "        cr_opti_day.append(cr_opti)\n",
    "        cr_oracle_day.append(compute_oracle_cost(V[i], dark_pools, rho_rebate, N))\n",
    "        t_index_real.append(t_index[i])\n",
    "\n",
    "    x_vlines.append(x_vlines[-1] + len(cr_opti_day))\n",
    "    log_cr_day = pd.DataFrame(\n",
    "        list(zip(cr_oracle_day, cr_opti_day)), columns=[\"Oracle\", \"Optimization\"], index=t_index_real)\n",
    "    log_cr_day.loc[:, \"CR_ratio\"] = log_cr_day.loc[:, \"Optimization\"] / (log_cr_day.loc[:, \"Oracle\"] + eps)\n",
    "    log_cr = log_cr.append(log_cr_day.rolling(window).mean())"
   ]
  },
  {
   "cell_type": "code",
   "execution_count": 15,
   "metadata": {
    "id": "lgNVVumT9oT6",
    "outputId": "9b5a7967-515d-44f6-8cae-76cb2965ad18"
   },
   "outputs": [
    {
     "data": {
      "image/png": "[encoded data removed]",
      "text/plain": [
       "<Figure size 648x360 with 1 Axes>"
      ]
     },
     "metadata": {
      "needs_background": "light"
     },
     "output_type": "display_data"
    }
   ],
   "source": [
    "log_cr_roll = log_cr\n",
    "\n",
    "class MyFormatter(Formatter):\n",
    "    def __init__(self, dates, fmt='%m-%d'):\n",
    "        self.dates = dates\n",
    "        self.fmt = fmt\n",
    "\n",
    "    def __call__(self, x, pos=0):\n",
    "        \"\"\"Return the label for time x at position pos.\"\"\"\n",
    "        ind = int(round(x))\n",
    "        if ind >= len(self.dates) or ind < 0:\n",
    "            return ''\n",
    "        return self.dates[ind].strftime(self.fmt)\n",
    "    \n",
    "fig, ax = plt.subplots(1, 1, figsize=(9, 5))\n",
    "ax.xaxis.set_major_formatter(MyFormatter(log_cr_roll.index))\n",
    "ax.plot(range(log_cr_roll.shape[0]), log_cr_roll.loc[:, \"CR_ratio\"], '--', color='r')\n",
    "ax.axhline(1, 0, log_cr_roll.shape[0], color='k')\n",
    "for x in x_vlines:\n",
    "    ax.axvline(x, color='b', linestyle='--')\n",
    "ax.set_ylim(0, 1.2)\n",
    "fig.autofmt_xdate()\n",
    "plt.show()"
   ]
  },
  {
   "cell_type": "markdown",
   "metadata": {
    "id": "g6cgmlnX9oT7"
   },
   "source": [
    "The performance is shown in the figure above with the red curve. The shape is different from that of the reference, after a careful examination, we state that it's due to the fact that an uniforme initialization could eventually consumes all liquidity at market openning in the case $\\sum \\beta < 1$, the traded volume are similar in all the three assets, thus no update of weight is done at the begining.\n",
    "\n",
    "Then, no trades happen at some time slots during the day (cf tp1 intraday volume curve), all cost reductions are 0 if there is no trades happenned, thus lowers the performance. In this way, we have a daily \"V\" shape. Thus, we avoided recording such results and obtained a daily increasing performance. \n",
    "\n",
    "Overall, the weight update scheme helps to improve the performance (performance curve moves upward) but the shape of the curve remains the same for different settings of $\\gamma_n$"
   ]
  },
  {
   "cell_type": "markdown",
   "metadata": {
    "id": "y1cljsqJ9oT8"
   },
   "source": [
    "## 2. Optimal posting price of limit orders: learning by trading"
   ]
  },
  {
   "cell_type": "code",
   "execution_count": 8,
   "metadata": {
    "id": "06WWf9FD9oT8"
   },
   "outputs": [],
   "source": [
    "import statsmodels.api as sm\n",
    "\n",
    "\n",
    "def Find_tau_bid(BestBid,Traded,tick,delta):\n",
    "    tau = []\n",
    "    p = 0\n",
    "    while p+1 < len(Traded):\n",
    "        tra = Traded[p+1:]\n",
    "        condi = (tra <= BestBid[p] - tick*delta)\n",
    "        if condi.any():\n",
    "            new_tau = condi.argmax()\n",
    "            tau.append(new_tau+1)\n",
    "            p += new_tau+1\n",
    "        else:\n",
    "            return tau\n",
    "    return tau\n",
    "\n",
    "\n",
    "def Find_tau_ask(BestAsk,Traded,tick,delta):\n",
    "    tau = []\n",
    "    p = 0\n",
    "    while p+1 < len(Traded):\n",
    "        tra = Traded[p+1:]\n",
    "        condi = (tra >= BestAsk[p] + tick*delta)\n",
    "        if condi.any():\n",
    "            new_tau = condi.argmax()\n",
    "            tau.append(new_tau+1)\n",
    "            p += new_tau+1\n",
    "        else:\n",
    "            return tau\n",
    "    return tau"
   ]
  },
  {
   "cell_type": "code",
   "execution_count": 9,
   "metadata": {
    "id": "JWeedcXi9oT9"
   },
   "outputs": [],
   "source": [
    "def estimate_lambda(tau,T):\n",
    "    new_tau = ((pd.Series(tau)).apply(lambda x:x if x < T else T))\n",
    "    return (new_tau < T).sum()/new_tau.sum()"
   ]
  },
  {
   "cell_type": "code",
   "execution_count": 10,
   "metadata": {
    "id": "AAT9m1PQ9oT9"
   },
   "outputs": [],
   "source": [
    "def find_list(Best,Traded,tick,T,mode = 'bid'):\n",
    "    lamb_list = []\n",
    "    for delta in range(5):\n",
    "        if mode == 'bid':\n",
    "            tau = Find_tau_bid(Best,Traded,tick,delta)\n",
    "        if mode == 'ask':\n",
    "            tau = Find_tau_ask(Best,Traded,tick,delta)\n",
    "        lamb = estimate_lambda(tau,T)\n",
    "        lamb_list.append(lamb)\n",
    "    return lamb_list\n",
    "\n",
    "def reg(lamb_list):\n",
    "    y = np.log(lamb_list)\n",
    "    x = list(range(5))\n",
    "    x = sm.add_constant(x)\n",
    "    rlm_model = sm.RLM(y, x, M=sm.robust.norms.HuberT())\n",
    "    model = rlm_model.fit()\n",
    "    A = np.exp(model.params[0])\n",
    "    a = -model.params[1]\n",
    "    return A,a"
   ]
  },
  {
   "cell_type": "code",
   "execution_count": 11,
   "metadata": {
    "id": "CZzpcAvJ9oT9"
   },
   "outputs": [],
   "source": [
    "# \"LVMH\" \"SANOFI\" \"TOTAL\" \"BOUYGUES\"\n",
    "Chemin = \"Data\"\n",
    "StockName = \"LVMH\"\n",
    "stock  = pd.read_hdf(Chemin+'/'+StockName+'.h5')\n",
    "stock = stock[stock.index.month == 2]\n",
    "delta_max = 4\n",
    "T = 15\n",
    "tick = 0.05\n",
    "BestBid = stock['BidPrice'].to_numpy()\n",
    "BestAsk = stock['AskPrice'].to_numpy()\n",
    "Traded = stock['TradedPrice'].to_numpy()"
   ]
  },
  {
   "cell_type": "code",
   "execution_count": 12,
   "metadata": {
    "id": "45Q5wPyR9oT-",
    "outputId": "f8a51699-d448-4ffa-d48b-20fcef2f879a"
   },
   "outputs": [
    {
     "data": {
      "text/plain": [
       "<matplotlib.legend.Legend at 0x7fd3c2f5bbe0>"
      ]
     },
     "execution_count": 12,
     "metadata": {},
     "output_type": "execute_result"
    },
    {
     "data": {
      "image/png": "[encoded data removed]",
      "text/plain": [
       "<Figure size 1440x432 with 2 Axes>"
      ]
     },
     "metadata": {
      "needs_background": "light"
     },
     "output_type": "display_data"
    }
   ],
   "source": [
    "lamb_bid = find_list(stock['BidPrice'].to_numpy(),Traded,tick,T,mode = 'bid')    \n",
    "lamb_ask = find_list(stock['AskPrice'].to_numpy(),Traded,tick,T,mode = 'ask')\n",
    "A_bid,a_bid = reg(lamb_bid)\n",
    "A_ask,a_ask = reg(lamb_ask)\n",
    "\n",
    "xx = np.linspace(0,4,100)\n",
    "\n",
    "f, axs = plt.subplots(1, 2, figsize=(20,6))\n",
    "axs[0].plot(lamb_bid,'--o',label = 'lambda')\n",
    "axs[0].plot(xx,A_bid * np.exp(-a_bid*xx),'r',label = 'regression')\n",
    "axs[0].set_title(\"Estimateur de lambda et sa parametrisation a l'achat\")\n",
    "axs[0].set_xlabel('\\delta')\n",
    "axs[0].set_ylabel('Estimated lambda')\n",
    "axs[0].legend(shadow=True, fancybox=True)\n",
    "\n",
    "axs[1].plot(lamb_ask,'--o',label = 'lambda')\n",
    "axs[1].plot(xx,A_ask * np.exp(-a_ask*xx),'r',label = 'regression')\n",
    "axs[1].set_title('Estimateur de lambda et sa parametrisation a la vente')\n",
    "axs[1].set_xlabel('\\delta')\n",
    "axs[1].set_ylabel('Estimated lambda')\n",
    "axs[1].legend(shadow=True, fancybox=True)"
   ]
  },
  {
   "cell_type": "code",
   "execution_count": null,
   "metadata": {
    "id": "kmXZaeTI9oT-"
   },
   "outputs": [],
   "source": []
  },
  {
   "cell_type": "markdown",
   "metadata": {
    "id": "QvqWwJw_9xAZ"
   },
   "source": [
    "Nous voyons ici que $\\lambda$ décroit bien avec $\\delta$ et suit bien une forme exponentielle\r\n",
    "$$\\lambda (x) = Ae^{(-ax)}$$\r\n",
    "les côtés vente et achat ont tous les deux cette propriétés. Ceci confirme l'hypothèse du modèle."
   ]
  },
  {
   "cell_type": "code",
   "execution_count": null,
   "metadata": {
    "id": "0xWBiKx0_Cx8"
   },
   "outputs": [],
   "source": []
  }
 ],
 "metadata": {
  "colab": {
   "collapsed_sections": [],
   "name": "TP 3 - Stochastic Approximation Algorithms Applied to Optimal Execution_Wenjun LIU&&Zhiyuan XU.ipynb",
   "provenance": []
  },
  "kernelspec": {
   "display_name": "Python 3",
   "language": "python",
   "name": "python3"
  },
  "language_info": {
   "codemirror_mode": {
    "name": "ipython",
    "version": 3
   },
   "file_extension": ".py",
   "mimetype": "text/x-python",
   "name": "python",
   "nbconvert_exporter": "python",
   "pygments_lexer": "ipython3",
   "version": "3.8.5-final"
  }
 },
 "nbformat": 4,
 "nbformat_minor": 4
}